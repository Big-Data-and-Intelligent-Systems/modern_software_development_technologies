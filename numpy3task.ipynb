{
 "cells": [
  {
   "cell_type": "code",
   "execution_count": 1,
   "id": "cdd5605b",
   "metadata": {},
   "outputs": [],
   "source": [
    "import numpy as np\n",
    "from  scipy.differentiate import derivative\n",
    "import matplotlib.pyplot as plt\n",
    "from numpy.typing import NDArray\n",
    "\n",
    "from warnings import filterwarnings\n",
    "filterwarnings(\"ignore\")"
   ]
  },
  {
   "cell_type": "markdown",
   "id": "36ab6706",
   "metadata": {},
   "source": [
    "![Описание картинки](./asserts/matrix_rank.png)"
   ]
  },
  {
   "cell_type": "code",
   "execution_count": 2,
   "id": "3819f893",
   "metadata": {},
   "outputs": [
    {
     "data": {
      "text/plain": [
       "'array([[1, 2, 3, 4],\\n       [0, 1, 5, 6],\\n       [0, 0, 1, 7],\\n       [0, 0, 0, 1]])'"
      ]
     },
     "execution_count": 2,
     "metadata": {},
     "output_type": "execute_result"
    }
   ],
   "source": [
    "matrix = np.array([\n",
    "    [1, 2, 3, 4],\n",
    "    [0, 1, 5, 6],\n",
    "    [0, 0, 1, 7],\n",
    "    [0, 0, 0, 1]\n",
    "])\n",
    "matrix.__repr__()"
   ]
  },
  {
   "cell_type": "code",
   "execution_count": 24,
   "id": "dd44159c",
   "metadata": {},
   "outputs": [
    {
     "data": {
      "text/plain": [
       "4"
      ]
     },
     "execution_count": 24,
     "metadata": {},
     "output_type": "execute_result"
    }
   ],
   "source": [
    "def matrix_rank(matrix: NDArray) -> int:\n",
    "    return int(np.linalg.matrix_rank(matrix))\n",
    "\n",
    "matrix_rank(matrix)"
   ]
  }
 ],
 "metadata": {
  "kernelspec": {
   "display_name": ".venv",
   "language": "python",
   "name": "python3"
  },
  "language_info": {
   "codemirror_mode": {
    "name": "ipython",
    "version": 3
   },
   "file_extension": ".py",
   "mimetype": "text/x-python",
   "name": "python",
   "nbconvert_exporter": "python",
   "pygments_lexer": "ipython3",
   "version": "3.12.3"
  }
 },
 "nbformat": 4,
 "nbformat_minor": 5
}
