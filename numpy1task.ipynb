{
 "cells": [
  {
   "cell_type": "code",
   "execution_count": 22,
   "id": "2b342f63",
   "metadata": {},
   "outputs": [],
   "source": [
    "import sys\n",
    "import pandas as pd\n",
    "import numpy as np\n",
    "import matplotlib.pyplot as plt\n",
    "\n",
    "from warnings import filterwarnings\n",
    "filterwarnings(\"ignore\")"
   ]
  },
  {
   "cell_type": "markdown",
   "id": "0283ec37",
   "metadata": {},
   "source": [
    "1. Взять статистику по осадкам:\n",
    "### https://www.kaggle.com/datasets/vanviethieuanh/vietnam-weather-data"
   ]
  },
  {
   "cell_type": "code",
   "execution_count": 7,
   "id": "3bdd7101",
   "metadata": {},
   "outputs": [
    {
     "data": {
      "text/html": [
       "<div>\n",
       "<style scoped>\n",
       "    .dataframe tbody tr th:only-of-type {\n",
       "        vertical-align: middle;\n",
       "    }\n",
       "\n",
       "    .dataframe tbody tr th {\n",
       "        vertical-align: top;\n",
       "    }\n",
       "\n",
       "    .dataframe thead th {\n",
       "        text-align: right;\n",
       "    }\n",
       "</style>\n",
       "<table border=\"1\" class=\"dataframe\">\n",
       "  <thead>\n",
       "    <tr style=\"text-align: right;\">\n",
       "      <th></th>\n",
       "      <th>province</th>\n",
       "      <th>max</th>\n",
       "      <th>min</th>\n",
       "      <th>wind</th>\n",
       "      <th>wind_d</th>\n",
       "      <th>rain</th>\n",
       "      <th>humidi</th>\n",
       "      <th>cloud</th>\n",
       "      <th>pressure</th>\n",
       "      <th>date</th>\n",
       "    </tr>\n",
       "  </thead>\n",
       "  <tbody>\n",
       "    <tr>\n",
       "      <th>0</th>\n",
       "      <td>Bac Lieu</td>\n",
       "      <td>27</td>\n",
       "      <td>22</td>\n",
       "      <td>17</td>\n",
       "      <td>NNE</td>\n",
       "      <td>6.9</td>\n",
       "      <td>90</td>\n",
       "      <td>71</td>\n",
       "      <td>1010</td>\n",
       "      <td>2009-01-01</td>\n",
       "    </tr>\n",
       "    <tr>\n",
       "      <th>1</th>\n",
       "      <td>Bac Lieu</td>\n",
       "      <td>31</td>\n",
       "      <td>25</td>\n",
       "      <td>20</td>\n",
       "      <td>ENE</td>\n",
       "      <td>0.0</td>\n",
       "      <td>64</td>\n",
       "      <td>24</td>\n",
       "      <td>1010</td>\n",
       "      <td>2010-01-01</td>\n",
       "    </tr>\n",
       "    <tr>\n",
       "      <th>2</th>\n",
       "      <td>Bac Lieu</td>\n",
       "      <td>29</td>\n",
       "      <td>24</td>\n",
       "      <td>14</td>\n",
       "      <td>E</td>\n",
       "      <td>0.0</td>\n",
       "      <td>75</td>\n",
       "      <td>45</td>\n",
       "      <td>1008</td>\n",
       "      <td>2011-01-01</td>\n",
       "    </tr>\n",
       "    <tr>\n",
       "      <th>3</th>\n",
       "      <td>Bac Lieu</td>\n",
       "      <td>30</td>\n",
       "      <td>24</td>\n",
       "      <td>30</td>\n",
       "      <td>E</td>\n",
       "      <td>0.0</td>\n",
       "      <td>79</td>\n",
       "      <td>52</td>\n",
       "      <td>1012</td>\n",
       "      <td>2012-01-01</td>\n",
       "    </tr>\n",
       "    <tr>\n",
       "      <th>4</th>\n",
       "      <td>Bac Lieu</td>\n",
       "      <td>31</td>\n",
       "      <td>25</td>\n",
       "      <td>20</td>\n",
       "      <td>ENE</td>\n",
       "      <td>0.0</td>\n",
       "      <td>70</td>\n",
       "      <td>24</td>\n",
       "      <td>1010</td>\n",
       "      <td>2013-01-01</td>\n",
       "    </tr>\n",
       "  </tbody>\n",
       "</table>\n",
       "</div>"
      ],
      "text/plain": [
       "   province  max  min  wind wind_d  rain  humidi  cloud  pressure       date\n",
       "0  Bac Lieu   27   22    17    NNE   6.9      90     71      1010 2009-01-01\n",
       "1  Bac Lieu   31   25    20    ENE   0.0      64     24      1010 2010-01-01\n",
       "2  Bac Lieu   29   24    14      E   0.0      75     45      1008 2011-01-01\n",
       "3  Bac Lieu   30   24    30      E   0.0      79     52      1012 2012-01-01\n",
       "4  Bac Lieu   31   25    20    ENE   0.0      70     24      1010 2013-01-01"
      ]
     },
     "execution_count": 7,
     "metadata": {},
     "output_type": "execute_result"
    }
   ],
   "source": [
    "df = pd.read_csv(\"weather.csv\")\n",
    "df[\"date\"] = pd.to_datetime(df[\"date\"])\n",
    "df.head()"
   ]
  },
  {
   "cell_type": "code",
   "execution_count": 8,
   "id": "b1136c60",
   "metadata": {},
   "outputs": [
    {
     "data": {
      "text/html": [
       "<div>\n",
       "<style scoped>\n",
       "    .dataframe tbody tr th:only-of-type {\n",
       "        vertical-align: middle;\n",
       "    }\n",
       "\n",
       "    .dataframe tbody tr th {\n",
       "        vertical-align: top;\n",
       "    }\n",
       "\n",
       "    .dataframe thead th {\n",
       "        text-align: right;\n",
       "    }\n",
       "</style>\n",
       "<table border=\"1\" class=\"dataframe\">\n",
       "  <thead>\n",
       "    <tr style=\"text-align: right;\">\n",
       "      <th></th>\n",
       "      <th>max</th>\n",
       "      <th>min</th>\n",
       "      <th>wind</th>\n",
       "      <th>rain</th>\n",
       "      <th>humidi</th>\n",
       "      <th>cloud</th>\n",
       "      <th>pressure</th>\n",
       "      <th>date</th>\n",
       "    </tr>\n",
       "  </thead>\n",
       "  <tbody>\n",
       "    <tr>\n",
       "      <th>count</th>\n",
       "      <td>181960.000000</td>\n",
       "      <td>181960.000000</td>\n",
       "      <td>181960.000000</td>\n",
       "      <td>181960.000000</td>\n",
       "      <td>181960.000000</td>\n",
       "      <td>181960.000000</td>\n",
       "      <td>181960.000000</td>\n",
       "      <td>181960</td>\n",
       "    </tr>\n",
       "    <tr>\n",
       "      <th>mean</th>\n",
       "      <td>29.837277</td>\n",
       "      <td>23.277874</td>\n",
       "      <td>11.038657</td>\n",
       "      <td>6.567130</td>\n",
       "      <td>77.083068</td>\n",
       "      <td>41.721268</td>\n",
       "      <td>1010.229127</td>\n",
       "      <td>2015-03-26 06:37:35.440755968</td>\n",
       "    </tr>\n",
       "    <tr>\n",
       "      <th>min</th>\n",
       "      <td>4.000000</td>\n",
       "      <td>2.000000</td>\n",
       "      <td>1.000000</td>\n",
       "      <td>0.000000</td>\n",
       "      <td>23.000000</td>\n",
       "      <td>0.000000</td>\n",
       "      <td>988.000000</td>\n",
       "      <td>2009-01-01 00:00:00</td>\n",
       "    </tr>\n",
       "    <tr>\n",
       "      <th>25%</th>\n",
       "      <td>28.000000</td>\n",
       "      <td>21.000000</td>\n",
       "      <td>7.000000</td>\n",
       "      <td>0.100000</td>\n",
       "      <td>71.000000</td>\n",
       "      <td>23.000000</td>\n",
       "      <td>1008.000000</td>\n",
       "      <td>2012-02-12 00:00:00</td>\n",
       "    </tr>\n",
       "    <tr>\n",
       "      <th>50%</th>\n",
       "      <td>31.000000</td>\n",
       "      <td>24.000000</td>\n",
       "      <td>10.000000</td>\n",
       "      <td>1.800000</td>\n",
       "      <td>78.000000</td>\n",
       "      <td>38.000000</td>\n",
       "      <td>1010.000000</td>\n",
       "      <td>2015-03-26 00:00:00</td>\n",
       "    </tr>\n",
       "    <tr>\n",
       "      <th>75%</th>\n",
       "      <td>33.000000</td>\n",
       "      <td>26.000000</td>\n",
       "      <td>14.000000</td>\n",
       "      <td>7.500000</td>\n",
       "      <td>83.000000</td>\n",
       "      <td>58.000000</td>\n",
       "      <td>1012.000000</td>\n",
       "      <td>2018-05-07 00:00:00</td>\n",
       "    </tr>\n",
       "    <tr>\n",
       "      <th>max</th>\n",
       "      <td>46.000000</td>\n",
       "      <td>32.000000</td>\n",
       "      <td>54.000000</td>\n",
       "      <td>596.400000</td>\n",
       "      <td>100.000000</td>\n",
       "      <td>100.000000</td>\n",
       "      <td>1038.000000</td>\n",
       "      <td>2021-06-18 00:00:00</td>\n",
       "    </tr>\n",
       "    <tr>\n",
       "      <th>std</th>\n",
       "      <td>4.571345</td>\n",
       "      <td>3.945381</td>\n",
       "      <td>5.311807</td>\n",
       "      <td>13.602055</td>\n",
       "      <td>9.288553</td>\n",
       "      <td>23.875067</td>\n",
       "      <td>4.635714</td>\n",
       "      <td>NaN</td>\n",
       "    </tr>\n",
       "  </tbody>\n",
       "</table>\n",
       "</div>"
      ],
      "text/plain": [
       "                 max            min           wind           rain  \\\n",
       "count  181960.000000  181960.000000  181960.000000  181960.000000   \n",
       "mean       29.837277      23.277874      11.038657       6.567130   \n",
       "min         4.000000       2.000000       1.000000       0.000000   \n",
       "25%        28.000000      21.000000       7.000000       0.100000   \n",
       "50%        31.000000      24.000000      10.000000       1.800000   \n",
       "75%        33.000000      26.000000      14.000000       7.500000   \n",
       "max        46.000000      32.000000      54.000000     596.400000   \n",
       "std         4.571345       3.945381       5.311807      13.602055   \n",
       "\n",
       "              humidi          cloud       pressure  \\\n",
       "count  181960.000000  181960.000000  181960.000000   \n",
       "mean       77.083068      41.721268    1010.229127   \n",
       "min        23.000000       0.000000     988.000000   \n",
       "25%        71.000000      23.000000    1008.000000   \n",
       "50%        78.000000      38.000000    1010.000000   \n",
       "75%        83.000000      58.000000    1012.000000   \n",
       "max       100.000000     100.000000    1038.000000   \n",
       "std         9.288553      23.875067       4.635714   \n",
       "\n",
       "                                date  \n",
       "count                         181960  \n",
       "mean   2015-03-26 06:37:35.440755968  \n",
       "min              2009-01-01 00:00:00  \n",
       "25%              2012-02-12 00:00:00  \n",
       "50%              2015-03-26 00:00:00  \n",
       "75%              2018-05-07 00:00:00  \n",
       "max              2021-06-18 00:00:00  \n",
       "std                              NaN  "
      ]
     },
     "execution_count": 8,
     "metadata": {},
     "output_type": "execute_result"
    }
   ],
   "source": [
    "df.describe()"
   ]
  },
  {
   "cell_type": "code",
   "execution_count": 9,
   "id": "a53f4dd7",
   "metadata": {},
   "outputs": [
    {
     "name": "stdout",
     "output_type": "stream",
     "text": [
      "<class 'pandas.core.frame.DataFrame'>\n",
      "RangeIndex: 181960 entries, 0 to 181959\n",
      "Data columns (total 10 columns):\n",
      " #   Column    Non-Null Count   Dtype         \n",
      "---  ------    --------------   -----         \n",
      " 0   province  181960 non-null  object        \n",
      " 1   max       181960 non-null  int64         \n",
      " 2   min       181960 non-null  int64         \n",
      " 3   wind      181960 non-null  int64         \n",
      " 4   wind_d    181960 non-null  object        \n",
      " 5   rain      181960 non-null  float64       \n",
      " 6   humidi    181960 non-null  int64         \n",
      " 7   cloud     181960 non-null  int64         \n",
      " 8   pressure  181960 non-null  int64         \n",
      " 9   date      181960 non-null  datetime64[ns]\n",
      "dtypes: datetime64[ns](1), float64(1), int64(6), object(2)\n",
      "memory usage: 13.9+ MB\n"
     ]
    }
   ],
   "source": [
    "df.info()"
   ]
  },
  {
   "cell_type": "code",
   "execution_count": 10,
   "id": "9246f432",
   "metadata": {},
   "outputs": [
    {
     "data": {
      "text/plain": [
       "province    0\n",
       "max         0\n",
       "min         0\n",
       "wind        0\n",
       "wind_d      0\n",
       "rain        0\n",
       "humidi      0\n",
       "cloud       0\n",
       "pressure    0\n",
       "date        0\n",
       "dtype: int64"
      ]
     },
     "execution_count": 10,
     "metadata": {},
     "output_type": "execute_result"
    }
   ],
   "source": [
    "df.isna().sum()"
   ]
  },
  {
   "cell_type": "code",
   "execution_count": 118,
   "id": "1a259d8d",
   "metadata": {},
   "outputs": [
    {
     "name": "stdout",
     "output_type": "stream",
     "text": [
      "bytes: 128\n"
     ]
    },
    {
     "data": {
      "text/plain": [
       "array([['Bac Lieu', 27, 22, 17, 'NNE', 6.9, 90, 71, 1010,\n",
       "        Timestamp('2009-01-01 00:00:00')],\n",
       "       ['Bac Lieu', 31, 25, 20, 'ENE', 0.0, 64, 24, 1010,\n",
       "        Timestamp('2010-01-01 00:00:00')],\n",
       "       ['Bac Lieu', 29, 24, 14, 'E', 0.0, 75, 45, 1008,\n",
       "        Timestamp('2011-01-01 00:00:00')],\n",
       "       ['Bac Lieu', 30, 24, 30, 'E', 0.0, 79, 52, 1012,\n",
       "        Timestamp('2012-01-01 00:00:00')],\n",
       "       ['Bac Lieu', 31, 25, 20, 'ENE', 0.0, 70, 24, 1010,\n",
       "        Timestamp('2013-01-01 00:00:00')]], dtype=object)"
      ]
     },
     "execution_count": 118,
     "metadata": {},
     "output_type": "execute_result"
    }
   ],
   "source": [
    "numpy_array = df.to_numpy()\n",
    "print(f\"bytes: {sys.getsizeof(numpy_array)}\")\n",
    "numpy_array[:5]"
   ]
  },
  {
   "cell_type": "markdown",
   "id": "05dbc9af",
   "metadata": {},
   "source": [
    "### сколько было дней с уровнем осадков менее 10 мм и более 1мм?"
   ]
  },
  {
   "cell_type": "code",
   "execution_count": 67,
   "id": "07db2f4d",
   "metadata": {},
   "outputs": [
    {
     "name": "stdout",
     "output_type": "stream",
     "text": [
      "дней с условиями: 67407\n"
     ]
    }
   ],
   "source": [
    "statement_body_copy = numpy_array[:, 5].astype(float).copy()\n",
    "mask = (statement_body_copy < 10) & (statement_body_copy > 1)\n",
    "\n",
    "print(f\"дней с условиями: {len(numpy_array[mask])}\")"
   ]
  },
  {
   "cell_type": "markdown",
   "id": "f6d3ddd4",
   "metadata": {},
   "source": [
    "### среднее количество осадков в дождливые дни"
   ]
  },
  {
   "cell_type": "code",
   "execution_count": 70,
   "id": "11faf4ae",
   "metadata": {},
   "outputs": [
    {
     "name": "stdout",
     "output_type": "stream",
     "text": [
      "8.461654864749521\n"
     ]
    }
   ],
   "source": [
    "rainy_days = numpy_array[numpy_array[:, 5]>0].copy()\n",
    "print(np.mean(rainy_days[:, 5]))"
   ]
  },
  {
   "cell_type": "markdown",
   "id": "94542547",
   "metadata": {},
   "source": [
    "### среднее количество осадков за 2020 год"
   ]
  },
  {
   "cell_type": "code",
   "execution_count": null,
   "id": "0da35b44",
   "metadata": {},
   "outputs": [],
   "source": [
    "numpy_array[:, 9] = list(map(lambda x: pd.to_datetime(x).to_pydatetime().year, numpy_array[:, 9]))\n",
    "mask = numpy_array[:, 9] == 2020\n",
    "weather_by_2020 = numpy_array[mask].copy()"
   ]
  },
  {
   "cell_type": "code",
   "execution_count": 125,
   "id": "4e791a08",
   "metadata": {},
   "outputs": [
    {
     "data": {
      "text/plain": [
       "np.float64(6.306582191780809)"
      ]
     },
     "execution_count": 125,
     "metadata": {},
     "output_type": "execute_result"
    }
   ],
   "source": [
    "np.mean(weather_by_2020[:, 5])"
   ]
  },
  {
   "cell_type": "markdown",
   "id": "4948c9a2",
   "metadata": {},
   "source": [
    "### максимальный уровень осадков в 2020 году"
   ]
  },
  {
   "cell_type": "code",
   "execution_count": 126,
   "id": "f887cb9b",
   "metadata": {},
   "outputs": [
    {
     "data": {
      "text/plain": [
       "466.0"
      ]
     },
     "execution_count": 126,
     "metadata": {},
     "output_type": "execute_result"
    }
   ],
   "source": [
    "np.max(weather_by_2020[:, 5])"
   ]
  }
 ],
 "metadata": {
  "kernelspec": {
   "display_name": ".venv",
   "language": "python",
   "name": "python3"
  },
  "language_info": {
   "codemirror_mode": {
    "name": "ipython",
    "version": 3
   },
   "file_extension": ".py",
   "mimetype": "text/x-python",
   "name": "python",
   "nbconvert_exporter": "python",
   "pygments_lexer": "ipython3",
   "version": "3.12.3"
  }
 },
 "nbformat": 4,
 "nbformat_minor": 5
}
